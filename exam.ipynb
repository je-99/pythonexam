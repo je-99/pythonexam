{
 "cells": [
  {
   "cell_type": "code",
   "execution_count": 4,
   "id": "initial_id",
   "metadata": {
    "collapsed": true,
    "ExecuteTime": {
     "end_time": "2024-03-07T08:40:27.774022Z",
     "start_time": "2024-03-07T08:40:24.948246Z"
    }
   },
   "outputs": [
    {
     "name": "stdout",
     "output_type": "stream",
     "text": [
      "Enter ZIP Code: \n",
      "Your location: Saarland\n"
     ]
    }
   ],
   "source": [
    "## QUESTION 1\n",
    "\n",
    "print(\"Enter ZIP Code: \\n\")\n",
    "zipCode = input()\n",
    "if zipCode.isnumeric() and len(zipCode) == 5:\n",
    "    zipCodeInt = int(zipCode)\n",
    "    if 66000 <= zipCodeInt <= 66999:\n",
    "        print(\"Your location: Saarland\")\n",
    "    else:\n",
    "        print(\"Your location: Not Saarland\")\n",
    "else:\n",
    "    print(\"Invalid Zipcode\")"
   ]
  },
  {
   "cell_type": "code",
   "execution_count": 5,
   "outputs": [
    {
     "name": "stdout",
     "output_type": "stream",
     "text": [
      "Enter your Python Version: \n",
      "Major Version: 3\tMinor Version: 11\n",
      "\n",
      "Your python version supports list comperhensions.\n",
      "Your python version supports f-strings.\n",
      "Your version is the most recent one.\n"
     ]
    }
   ],
   "source": [
    "## QUESTION 2\n",
    "\n",
    "print(\"Enter your Python Version: \")\n",
    "versionInput = input()\n",
    "major, minor = versionInput.split('.')\n",
    "major = int(major)\n",
    "minor = int(minor)\n",
    "\n",
    "print(\"Major Version: \" + str(major) +  \"\\t\" + \"Minor Version: \" + str(minor) + \"\\n\")\n",
    "\n",
    "if 2 <= major:\n",
    "    print(\"Your python version supports list comperhensions.\")\n",
    "\n",
    "if 3 <= major and 6 <= minor:\n",
    "    print(\"Your python version supports f-strings.\")\n",
    "    \n",
    "if 3 == major and 11 == minor:\n",
    "    print(\"Your version is the most recent one.\")"
   ],
   "metadata": {
    "collapsed": false,
    "ExecuteTime": {
     "end_time": "2024-03-07T08:40:30.194542Z",
     "start_time": "2024-03-07T08:40:27.736452Z"
    }
   },
   "id": "c7ada3e2657fce5"
  },
  {
   "cell_type": "code",
   "execution_count": 6,
   "outputs": [
    {
     "name": "stdout",
     "output_type": "stream",
     "text": [
      "['random string', '0', '0.1', '0,1', '100', '1000', '1.000', '1,000', 'not a number']\n",
      "[False, True, True, True, True, True, True, True, False]\n"
     ]
    }
   ],
   "source": [
    "## QUESTION 3.a\n",
    "\n",
    "import exam_variables as ev\n",
    "\n",
    "print(ev.test_strings)\n",
    "\n",
    "def isnumeric(x):\n",
    "    return x.replace(\".\", \"\").replace(\",\", \"\").replace(\"(\", \"\").isnumeric()\n",
    "\n",
    "result = list(map(isnumeric, ev.test_strings))\n",
    "\n",
    "print(result)"
   ],
   "metadata": {
    "collapsed": false,
    "ExecuteTime": {
     "end_time": "2024-03-07T08:40:30.194771Z",
     "start_time": "2024-03-07T08:40:30.165560Z"
    }
   },
   "id": "8ff99b6bc4f13136"
  },
  {
   "cell_type": "code",
   "execution_count": 7,
   "outputs": [
    {
     "name": "stdout",
     "output_type": "stream",
     "text": [
      "['The', 'European', 'Union', 'is', 'a', 'supranational', 'political', 'and', 'economic', 'union', 'of', '27', 'member', 'states', 'that', 'are', 'located', 'primarily', 'in', 'Europe.', 'The', 'union', 'has', 'a', 'total', 'area', 'of', '4,233,255', 'km2', '(1,634,469', 'sq', 'mi)', 'and', 'an', 'estimated', 'total', 'population', 'of', 'over', '448', 'million.', 'Containing', '5.8%', 'of', 'the', 'world', 'population', 'in', '2020,', 'EU', 'member', 'states', 'generated', 'a', 'nominal', 'gross', 'domestic', 'product', '(GDP)', 'of', 'around', 'US$', '16.6', 'trillion', 'in', '2022,', 'constituting', 'approximately', 'one', 'sixth', 'of', 'global', 'nominal', 'GDP.']\n",
      "['27', '4,233,255', '(1,634,469', '448', '2020,', '16.6', '2022,']\n"
     ]
    }
   ],
   "source": [
    "## QUESTION 3.b\n",
    "import exam_variables as ev\n",
    "words = ev.EU_wikitext.split(\" \")\n",
    "print(words)\n",
    "\n",
    "filteredForNumeric = list()\n",
    "\n",
    "def isnumeric(x):\n",
    "    return x.replace(\".\", \"\").replace(\",\", \"\").replace(\"(\", \"\").isnumeric()\n",
    "\n",
    "for x in words:\n",
    "    if isnumeric(x):\n",
    "        filteredForNumeric.append(x)\n",
    "\n",
    "\n",
    "#filtered = list(filter(isnumeric, words))\n",
    "#print(filtered)\n",
    "print(filteredForNumeric)"
   ],
   "metadata": {
    "collapsed": false,
    "ExecuteTime": {
     "end_time": "2024-03-07T08:40:30.195355Z",
     "start_time": "2024-03-07T08:40:30.173025Z"
    }
   },
   "id": "9b40e7d5cc243354"
  },
  {
   "cell_type": "code",
   "execution_count": 8,
   "outputs": [
    {
     "name": "stdout",
     "output_type": "stream",
     "text": [
      "['A__DET', 'language__NOUN', 'family__NOUN', 'is__AUX', 'a__DET', 'group__NOUN', 'of__ADP', 'languages__NOUN', 'related__VERB', 'through__ADP', 'descent__NOUN', 'from__ADP', 'a__DET', 'common__ADJ', 'ancestral__ADJ', 'language__NOUN', 'or__CCONJ', 'parental__ADJ', 'language__NOUN', ',__PUNCT', 'called__VERB', 'the__DET', 'proto__NOUN', '-__PUNCT', 'language__NOUN', 'of__ADP', 'that__DET', 'family__NOUN']\n",
      "[['A', 'DET'], ['language', 'NOUN'], ['family', 'NOUN'], ['is', 'AUX'], ['a', 'DET'], ['group', 'NOUN'], ['of', 'ADP'], ['languages', 'NOUN'], ['related', 'VERB'], ['through', 'ADP'], ['descent', 'NOUN'], ['from', 'ADP'], ['a', 'DET'], ['common', 'ADJ'], ['ancestral', 'ADJ'], ['language', 'NOUN'], ['or', 'CCONJ'], ['parental', 'ADJ'], ['language', 'NOUN'], [',', 'PUNCT'], ['called', 'VERB'], ['the', 'DET'], ['proto', 'NOUN'], ['-', 'PUNCT'], ['language', 'NOUN'], ['of', 'ADP'], ['that', 'DET'], ['family', 'NOUN']]\n",
      "\n",
      "\n",
      "[['A', 'DET'], ['is', 'AUX'], ['a', 'DET'], ['of', 'ADP'], ['through', 'ADP'], ['from', 'ADP'], ['a', 'DET'], ['or', 'CCONJ'], ['the', 'DET'], ['of', 'ADP'], ['that', 'DET']]\n",
      "\n",
      "\n",
      "A\n",
      "is\n",
      "a\n",
      "of\n",
      "through\n",
      "from\n",
      "a\n",
      "or\n",
      "the\n",
      "of\n",
      "that\n"
     ]
    }
   ],
   "source": [
    "## QUESTION 4\n",
    "\n",
    "slitted_into_words = ev.annotated_sentence.split(' ')\n",
    "print(slitted_into_words)\n",
    "\n",
    "words_mapped_to_tags = list()\n",
    "\n",
    "for x in slitted_into_words:\n",
    "    words_mapped_to_tags.append(x.split('__'))\n",
    "\n",
    "#splittedq4 = list(map(lambda x: x.split('__'), slitted_into_words))\n",
    "print(words_mapped_to_tags)\n",
    "\n",
    "#fktwords = list(filter(lambda x: x[1] in ev.function_words_tags, words_mapped_to_tags))\n",
    "\n",
    "function_words_in_sentence = list()\n",
    "\n",
    "for x in words_mapped_to_tags:\n",
    "    for y in ev.function_words_tags:\n",
    "        if x[1] == y:\n",
    "            function_words_in_sentence.append(x)\n",
    "\n",
    "print('\\n')\n",
    "print(function_words_in_sentence)\n",
    "print('\\n')\n",
    "for x in function_words_in_sentence:\n",
    "    print(x[0])\n",
    "#print(list(map(lambda x: x[0], function_words_in_sentence)))"
   ],
   "metadata": {
    "collapsed": false,
    "ExecuteTime": {
     "end_time": "2024-03-07T08:40:30.195808Z",
     "start_time": "2024-03-07T08:40:30.179604Z"
    }
   },
   "id": "699d045754fa30d"
  },
  {
   "cell_type": "code",
   "execution_count": 9,
   "outputs": [
    {
     "name": "stdout",
     "output_type": "stream",
     "text": [
      "[{'title': 'Data centres could soon be heating your local swimming pool', 'opening sentence': 'An innovation that captures heat from data centres and uses it to warm public pools is about to scale up', 'topics': 'Environment,Society', 'article date': datetime.datetime(2024, 1, 17, 0, 0)}, {'title': 'Imagine if… AI solves all our problems (plus, how it could happen)', 'opening sentence': 'It’s 2050. AI has been tamed and is solving major global problems. Fantasy or near-future reality? We find out', 'topics': 'Economics,Technology', 'article date': datetime.datetime(2023, 9, 6, 0, 0)}, {'title': 'Making a comeback: the ‘lost’ species returning to Britain', 'opening sentence': 'Some were reintroduced, others mysteriously reappeared. Meet the species that came back from the abyss', 'topics': 'Environment', 'article date': datetime.datetime(2023, 11, 14, 0, 0)}, {'title': 'How black barbers in London are giving poor mental health the chop', 'opening sentence': 'Black men are getting more than just a trim at barber shops in Islington, thanks to a pioneering mental health initiative', 'topics': 'Health,Society', 'article date': datetime.datetime(2023, 1, 31, 0, 0)}, {'title': 'Six lifestyle choices that can slash your risk of developing dementia', 'opening sentence': 'Dementia rates are set to soar, research suggests. But it doesn’t have to be that way. These habits can help slash your risk', 'topics': 'Health,Science', 'article date': datetime.datetime(2023, 11, 1, 0, 0)}, {'title': 'Three good things: transformative educational projects', 'opening sentence': 'Projects to support young people with visual impairments, tackle food insecurity and help address climate anxiety will share a £1m prize', 'topics': 'Economics,Society,Health', 'article date': datetime.datetime(2024, 1, 26, 0, 0)}, {'title': 'The rise of job centres for neurodivergent people', 'opening sentence': 'Increasingly, specialised employment agencies are drawing attention to the benefits of conditions such as autism', 'topics': 'Economics,Society,Health', 'article date': datetime.datetime(2024, 1, 3, 0, 0)}, {'title': 'Roll up for the great resale retail rush: the rise and rise of secondhand shopping', 'opening sentence': 'Secondhand shopping is a multibillion-pound marketplace – and going from strength to strength', 'topics': 'Economics,Environment', 'article date': datetime.datetime(2024, 1, 2, 0, 0)}, {'title': 'Could purpose-led firms lift the UK’s flagging economy?', 'opening sentence': 'It may seem counterintuitive, but getting companies to think beyond the bottom line could boost the economy, a report suggests', 'topics': 'Economics', 'article date': datetime.datetime(2023, 11, 29, 0, 0)}, {'title': 'What went right this week: England’s rainforests breathed easier, plus more', 'opening sentence': 'Health research entered a new era, English rainforests got a boost, and low-carbon flying inched closer, plus more good news', 'topics': 'Environment', 'article date': datetime.datetime(2023, 12, 1, 0, 0)}, {'title': 'Welcome to the ‘golden age of medicine’ (plus, seven big breakthroughs)', 'opening sentence': 'From the rediscovery of a ‘forgotten organ’ to potential cures for cancers, Alzheimer’s and HIV, this is a bold new era for medicine', 'topics': 'Health', 'article date': datetime.datetime(2023, 10, 25, 0, 0)}, {'title': 'Even as the heat has been on in Dubai, the renewables juggernaut has gathered pace', 'opening sentence': 'The Cop28 agreement is imperfect yet significant – and one of a host of causes for optimism', 'topics': 'Environment', 'article date': datetime.datetime(2023, 12, 13, 0, 0)}]\n",
      "\n",
      "===T1===\n",
      "\n",
      "Data centres could soon be heating your local swimming pool\n",
      "Three good things: transformative educational projects\n",
      "The rise of job centres for neurodivergent people\n",
      "Roll up for the great resale retail rush: the rise and rise of secondhand shopping\n",
      "\n",
      "===T2===\n",
      "\n",
      "How black barbers in London are giving poor mental health the chop\n",
      "Six lifestyle choices that can slash your risk of developing dementia\n",
      "Three good things: transformative educational projects\n",
      "The rise of job centres for neurodivergent people\n",
      "Welcome to the ‘golden age of medicine’ (plus, seven big breakthroughs)\n",
      "\n",
      "===T3===\n",
      "\n",
      "5\n",
      "\n",
      "===T4===\n",
      "\n",
      "{'Economics', 'Science', 'Society', 'Environment', 'Health', 'Technology'}\n"
     ]
    }
   ],
   "source": [
    "## QUESTION 5\n",
    "\n",
    "import datetime\n",
    "\n",
    "file = open('positive news.txt', 'r')\n",
    "\n",
    "lines = file.readlines()\n",
    "#print(lines)\n",
    "\n",
    "dataSplittedInFields = list(map(lambda x: x.split(\" | \"), lines))\n",
    "\n",
    "dataDict = []\n",
    "\n",
    "for i in dataSplittedInFields:\n",
    "    dataDict.append(\n",
    "        {\n",
    "            \"title\": i[0],\n",
    "            \"opening sentence\": i[1],\n",
    "            \"topics\": i[2],\n",
    "            \"article date\": datetime.datetime.strptime(i[3].replace('\\n', ''), '%d/%m/%Y')\n",
    "        }\n",
    "    )\n",
    "\n",
    "print(dataDict)\n",
    "\n",
    "print('\\n===T1===\\n')\n",
    "\n",
    "for i in dataDict:\n",
    "    if i['article date'].year == 2024:\n",
    "        print(i['title'])\n",
    "        \n",
    "\n",
    "print('\\n===T2===\\n')\n",
    "\n",
    "for i in dataDict:\n",
    "    if i['topics'].find('Health') != -1:\n",
    "        print(i['title'])\n",
    "        \n",
    "\n",
    "print('\\n===T3===\\n')\n",
    "counter = 0\n",
    "for i in dataDict:\n",
    "    if i['topics'].find('Environment') != -1:\n",
    "        counter = counter + 1\n",
    "        \n",
    "print(counter)\n",
    "\n",
    "\n",
    "print('\\n===T4===\\n')\n",
    "setTopics = set()\n",
    "for i in dataDict:\n",
    "    setTopics = setTopics.union(set(i['topics'].split(',')))\n",
    "    \n",
    "print(setTopics)"
   ],
   "metadata": {
    "collapsed": false,
    "ExecuteTime": {
     "end_time": "2024-03-07T08:40:30.199182Z",
     "start_time": "2024-03-07T08:40:30.185411Z"
    }
   },
   "id": "69d188b33eb27e1e"
  },
  {
   "cell_type": "code",
   "execution_count": 10,
   "outputs": [
    {
     "name": "stdout",
     "output_type": "stream",
     "text": [
      "===T1===\n",
      "\n",
      "{'Altaic', 'Indo-European', 'Basque', 'Uralic', 'Sino-Tibetan', 'Niger-Congo', 'Austronesian', 'Afro-Asiatic', 'Dravidian', 'Mayan'}\n",
      "\n",
      "\n",
      "===T2===\n",
      "\n",
      "Arabic (Modern Standard)\n",
      "Hawaiian\n",
      "Irish\n",
      "\n",
      "\n",
      "===T3===\n",
      "\n",
      "{'Germanic', 'Albanian', 'Indic', 'Celtic', 'Romance', 'Iranian', 'Slavic'}\n",
      "\n",
      "\n",
      "===T4===\n",
      "\n",
      "Amara\n",
      "Tolai\n",
      "\n",
      "\n",
      "===T5===\n",
      "\n",
      "FILE CREATED!\n"
     ]
    }
   ],
   "source": [
    "## QUESTION 6\n",
    "import exam_variables as ev\n",
    "\n",
    "print('===T1===\\n')\n",
    "setLanguageFamilies = set()\n",
    "for x in ev.language_data:\n",
    "    setLanguageFamilies.add(ev.language_data[x]['Family'])\n",
    "    \n",
    "print(setLanguageFamilies)\n",
    "\n",
    "print('\\n\\n===T2===\\n')\n",
    "for x in ev.language_data:\n",
    "    if ev.language_data[x]['Word Order'] == \"VSO\":\n",
    "        print(x)\n",
    "        \n",
    "\n",
    "print('\\n\\n===T3===\\n')\n",
    "setGenera = set()\n",
    "for x in ev.language_data:\n",
    "    if ev.language_data[x]['Family'] == \"Indo-European\":\n",
    "        setGenera.add(ev.language_data[x][\"Genus\"])\n",
    "        \n",
    "print(setGenera)\n",
    "\n",
    "print('\\n\\n===T4===\\n')\n",
    "for x in ev.language_data:\n",
    "    if ev.language_data[x]['Family'] == \"Austronesian\" and ev.language_data[x]['Word Order'] == \"SVO\":\n",
    "        print(x)\n",
    "        \n",
    "\n",
    "print('\\n\\n===T5===\\n')\n",
    "file = open('indo-european-languages.txt', 'w')\n",
    "for x in ev.language_data:\n",
    "    if ev.language_data[x]['Family'] == \"Indo-European\":\n",
    "        file.write('Language: ' + x + ' Genus: ' + ev.language_data[x]['Genus'] + ' Word order: ' + ev.language_data[x]['Word Order'] + '\\n')\n",
    "\n",
    "file.close()\n",
    "print('FILE CREATED!')"
   ],
   "metadata": {
    "collapsed": false,
    "ExecuteTime": {
     "end_time": "2024-03-07T08:40:30.199370Z",
     "start_time": "2024-03-07T08:40:30.188907Z"
    }
   },
   "id": "99bdcb33e76ac2e6"
  },
  {
   "cell_type": "code",
   "execution_count": 11,
   "outputs": [
    {
     "name": "stdout",
     "output_type": "stream",
     "text": [
      "True\n",
      "Kuchen\n",
      "------\n",
      "List of ingredients: butter, eggs, flour, sugar, baking powder, milk\n",
      "\n",
      "Instructions:\n",
      "Preheat oven to 180 degrees...\n",
      "Contained allergens: eggs\n",
      "Contained allergens: eggs, sugar\n"
     ]
    }
   ],
   "source": [
    "#QUESTION 7\n",
    "\n",
    "import exam_variables as ev\n",
    "\n",
    "recipe = ev.Recipe('Kuchen', ev.simple_cake, ev.instructions)\n",
    "\n",
    "print(recipe.has_ingredient('milk'))\n",
    "recipe.print_recipe()\n",
    "recipe.display_allergens()\n",
    "recipe.display_allergens([\"sugar\"])"
   ],
   "metadata": {
    "collapsed": false,
    "ExecuteTime": {
     "end_time": "2024-03-07T08:40:30.200318Z",
     "start_time": "2024-03-07T08:40:30.195035Z"
    }
   },
   "id": "3c59fc3796c46a28"
  }
 ],
 "metadata": {
  "kernelspec": {
   "display_name": "Python 3",
   "language": "python",
   "name": "python3"
  },
  "language_info": {
   "codemirror_mode": {
    "name": "ipython",
    "version": 2
   },
   "file_extension": ".py",
   "mimetype": "text/x-python",
   "name": "python",
   "nbconvert_exporter": "python",
   "pygments_lexer": "ipython2",
   "version": "2.7.6"
  }
 },
 "nbformat": 4,
 "nbformat_minor": 5
}
