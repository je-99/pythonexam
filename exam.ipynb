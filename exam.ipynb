{
 "cells": [
  {
   "cell_type": "code",
   "execution_count": null,
   "id": "initial_id",
   "metadata": {
    "collapsed": true
   },
   "outputs": [],
   "source": [
    "## QUESTION 1\n",
    "\n",
    "print(\"Enter ZIP Code: \\n\")\n",
    "zipCode = input()\n",
    "if zipCode.isnumeric() and len(zipCode) == 5:\n",
    "    zipCodeInt = int(zipCode)\n",
    "    if 66000 <= zipCodeInt <= 66999:\n",
    "        print(\"Your location: Saarland\")\n",
    "    else:\n",
    "        print(\"Your location: Not Saarland\")\n",
    "else:\n",
    "    print(\"Invalid Zipcode\")"
   ]
  },
  {
   "cell_type": "code",
   "execution_count": null,
   "outputs": [],
   "source": [
    "## QUESTION 2\n",
    "\n",
    "print(\"Enter your Python Version: \")\n",
    "versionInput = input()\n",
    "major, minor = versionInput.split('.')\n",
    "major = int(major)\n",
    "minor = int(minor)\n",
    "\n",
    "print(\"Major Version: \" + str(major) +  \"\\t\" + \"Minor Version: \" + str(minor) + \"\\n\")\n",
    "\n",
    "if 2 <= major:\n",
    "    print(\"Your python version supports list comperhensions.\")\n",
    "\n",
    "if 3 <= major and 6 <= minor:\n",
    "    print(\"Your python version supports f-strings.\")\n",
    "    \n",
    "if 3 == major and 11 == minor:\n",
    "    print(\"Your version is the most recent one.\")"
   ],
   "metadata": {
    "collapsed": false
   },
   "id": "c7ada3e2657fce5"
  },
  {
   "cell_type": "code",
   "execution_count": null,
   "outputs": [],
   "source": [
    "## QUESTION 3.a\n",
    "\n",
    "import exam_variables as ev\n",
    "\n",
    "print(ev.test_strings)\n",
    "\n",
    "def isnumeric(x):\n",
    "    return x.replace(\".\", \"\").replace(\",\", \"\").replace(\"(\", \"\").isnumeric()\n",
    "\n",
    "result = list(map(isnumeric, ev.test_strings))\n",
    "\n",
    "print(result)"
   ],
   "metadata": {
    "collapsed": false
   },
   "id": "8ff99b6bc4f13136"
  },
  {
   "cell_type": "code",
   "execution_count": null,
   "outputs": [],
   "source": [
    "## QUESTION 3.b\n",
    "import exam_variables as ev\n",
    "words = ev.EU_wikitext.split(\" \")\n",
    "print(words)\n",
    "\n",
    "filteredForNumeric = list()\n",
    "\n",
    "def isnumeric(x):\n",
    "    return x.replace(\".\", \"\").replace(\",\", \"\").replace(\"(\", \"\").isnumeric()\n",
    "\n",
    "for x in words:\n",
    "    if isnumeric(x):\n",
    "        filteredForNumeric.append(x)\n",
    "\n",
    "\n",
    "#filtered = list(filter(isnumeric, words))\n",
    "#print(filtered)\n",
    "print(filteredForNumeric)"
   ],
   "metadata": {
    "collapsed": false
   },
   "id": "9b40e7d5cc243354"
  },
  {
   "cell_type": "code",
   "execution_count": null,
   "outputs": [],
   "source": [
    "## QUESTION 4\n",
    "\n",
    "slitted_into_words = ev.annotated_sentence.split(' ')\n",
    "print(slitted_into_words)\n",
    "\n",
    "words_mapped_to_tags = list()\n",
    "\n",
    "for x in slitted_into_words:\n",
    "    words_mapped_to_tags.append(x.split('__'))\n",
    "\n",
    "#splittedq4 = list(map(lambda x: x.split('__'), slitted_into_words))\n",
    "print(words_mapped_to_tags)\n",
    "\n",
    "#fktwords = list(filter(lambda x: x[1] in ev.function_words_tags, words_mapped_to_tags))\n",
    "\n",
    "function_words_in_sentence = list()\n",
    "\n",
    "for x in words_mapped_to_tags:\n",
    "    for y in ev.function_words_tags:\n",
    "        if x[1] == y:\n",
    "            function_words_in_sentence.append(x)\n",
    "\n",
    "print('\\n')\n",
    "print(function_words_in_sentence)\n",
    "print('\\n')\n",
    "for x in function_words_in_sentence:\n",
    "    print(x[0])\n",
    "#print(list(map(lambda x: x[0], function_words_in_sentence)))"
   ],
   "metadata": {
    "collapsed": false
   },
   "id": "699d045754fa30d"
  },
  {
   "cell_type": "code",
   "execution_count": null,
   "outputs": [],
   "source": [
    "## QUESTION 5\n",
    "\n",
    "import datetime\n",
    "\n",
    "file = open('positive news.txt', 'r')\n",
    "\n",
    "lines = file.readlines()\n",
    "#print(lines)\n",
    "\n",
    "dataSplittedInFields = list(map(lambda x: x.split(\" | \"), lines))\n",
    "\n",
    "dataDict = []\n",
    "\n",
    "for i in dataSplittedInFields:\n",
    "    dataDict.append(\n",
    "        {\n",
    "            \"title\": i[0],\n",
    "            \"opening sentence\": i[1],\n",
    "            \"topics\": i[2],\n",
    "            \"article date\": datetime.datetime.strptime(i[3].replace('\\n', ''), '%d/%m/%Y')\n",
    "        }\n",
    "    )\n",
    "\n",
    "print(dataDict)\n",
    "\n",
    "print('\\n===T1===\\n')\n",
    "\n",
    "for i in dataDict:\n",
    "    if i['article date'].year == 2024:\n",
    "        print(i['title'])\n",
    "        \n",
    "\n",
    "print('\\n===T2===\\n')\n",
    "\n",
    "for i in dataDict:\n",
    "    if i['topics'].find('Health') != -1:\n",
    "        print(i['title'])\n",
    "        \n",
    "\n",
    "print('\\n===T3===\\n')\n",
    "counter = 0\n",
    "for i in dataDict:\n",
    "    if i['topics'].find('Environment') != -1:\n",
    "        counter = counter + 1\n",
    "        \n",
    "print(counter)\n",
    "\n",
    "\n",
    "print('\\n===T4===\\n')\n",
    "setTopics = set()\n",
    "for i in dataDict:\n",
    "    setTopics = setTopics.union(set(i['topics'].split(',')))\n",
    "    \n",
    "print(setTopics)"
   ],
   "metadata": {
    "collapsed": false
   },
   "id": "69d188b33eb27e1e"
  },
  {
   "cell_type": "code",
   "execution_count": null,
   "outputs": [],
   "source": [
    "## QUESTION 6\n",
    "import exam_variables as ev\n",
    "\n",
    "print('===T1===\\n')\n",
    "setLanguageFamilies = set()\n",
    "for x in ev.language_data:\n",
    "    setLanguageFamilies.add(ev.language_data[x]['Family'])\n",
    "    \n",
    "print(setLanguageFamilies)\n",
    "\n",
    "print('\\n\\n===T2===\\n')\n",
    "for x in ev.language_data:\n",
    "    if ev.language_data[x]['Word Order'] == \"VSO\":\n",
    "        print(x)\n",
    "        \n",
    "\n",
    "print('\\n\\n===T3===\\n')\n",
    "setGenera = set()\n",
    "for x in ev.language_data:\n",
    "    if ev.language_data[x]['Family'] == \"Indo-European\":\n",
    "        setGenera.add(ev.language_data[x][\"Genus\"])\n",
    "        \n",
    "print(setGenera)\n",
    "\n",
    "print('\\n\\n===T4===\\n')\n",
    "for x in ev.language_data:\n",
    "    if ev.language_data[x]['Family'] == \"Austronesian\" and ev.language_data[x]['Word Order'] == \"SVO\":\n",
    "        print(x)\n",
    "        \n",
    "\n",
    "print('\\n\\n===T5===\\n')\n",
    "file = open('indo-european-languages.txt', 'w')\n",
    "for x in ev.language_data:\n",
    "    if ev.language_data[x]['Family'] == \"Indo-European\":\n",
    "        file.write('Language: ' + x + ' Genus: ' + ev.language_data[x]['Genus'] + ' Word order: ' + ev.language_data[x]['Word Order'] + '\\n')\n",
    "\n",
    "file.close()\n",
    "print('FILE CREATED!')"
   ],
   "metadata": {
    "collapsed": false
   },
   "id": "99bdcb33e76ac2e6"
  },
  {
   "cell_type": "code",
   "execution_count": null,
   "outputs": [],
   "source": [
    "#QUESTION 7\n",
    "\n",
    "import exam_variables as ev\n",
    "\n",
    "recipe = ev.Recipe('Kuchen', ev.simple_cake, ev.instructions)\n",
    "\n",
    "print(recipe.has_ingredient('milk'))\n",
    "recipe.print_recipe()\n",
    "recipe.display_allergens()\n",
    "recipe.display_allergens([\"sugar\"])"
   ],
   "metadata": {
    "collapsed": false
   },
   "id": "3c59fc3796c46a28"
  },
  {
   "cell_type": "code",
   "execution_count": null,
   "outputs": [],
   "source": [],
   "metadata": {
    "collapsed": false
   },
   "id": "d8af02a27d82635e"
  }
 ],
 "metadata": {
  "kernelspec": {
   "display_name": "Python 3",
   "language": "python",
   "name": "python3"
  },
  "language_info": {
   "codemirror_mode": {
    "name": "ipython",
    "version": 2
   },
   "file_extension": ".py",
   "mimetype": "text/x-python",
   "name": "python",
   "nbconvert_exporter": "python",
   "pygments_lexer": "ipython2",
   "version": "2.7.6"
  }
 },
 "nbformat": 4,
 "nbformat_minor": 5
}
