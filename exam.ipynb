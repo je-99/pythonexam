{
 "cells": [
  {
   "cell_type": "code",
   "execution_count": 6,
   "id": "initial_id",
   "metadata": {
    "collapsed": true,
    "ExecuteTime": {
     "end_time": "2024-02-25T17:29:49.497477Z",
     "start_time": "2024-02-25T17:29:47.285222Z"
    }
   },
   "outputs": [
    {
     "name": "stdout",
     "output_type": "stream",
     "text": [
      "Enter ZIP Code: \n",
      "Your location: Saarland\n"
     ]
    }
   ],
   "source": [
    "## QUESTION 1\n",
    "\n",
    "print(\"Enter ZIP Code: \\n\")\n",
    "zipCode = input()\n",
    "zipCodeInt = int(zipCode)\n",
    "\n",
    "if 66000 <= zipCodeInt <= 66999:\n",
    "    print(\"Your location: Saarland\")\n",
    "else:\n",
    "    print(\"Invalid Zipcode\")\n"
   ]
  },
  {
   "cell_type": "code",
   "execution_count": 7,
   "outputs": [
    {
     "name": "stdout",
     "output_type": "stream",
     "text": [
      "Enter your Python Version: \n",
      "Major Version: 3\tMinor Version: 11\n",
      "\n",
      "Your python version supports list comperhensions.\n",
      "Your python version supports f-strings.\n",
      "Your version is the most recent one.\n"
     ]
    }
   ],
   "source": [
    "## QUESTION 2\n",
    "\n",
    "print(\"Enter your Python Version: \")\n",
    "versionInput = input()\n",
    "major, minor = versionInput.split('.')\n",
    "major = int(major)\n",
    "minor = int(minor)\n",
    "\n",
    "print(\"Major Version: \" + str(major) +  \"\\t\" + \"Minor Version: \" + str(minor) + \"\\n\")\n",
    "\n",
    "if 2 <= major:\n",
    "    print(\"Your python version supports list comperhensions.\")\n",
    "\n",
    "if 3 <= major and 6 <= minor:\n",
    "    print(\"Your python version supports f-strings.\")\n",
    "    \n",
    "if 3 == major and 11 == minor:\n",
    "    print(\"Your version is the most recent one.\")"
   ],
   "metadata": {
    "collapsed": false,
    "ExecuteTime": {
     "end_time": "2024-02-25T17:29:51.448910Z",
     "start_time": "2024-02-25T17:29:49.492850Z"
    }
   },
   "id": "c7ada3e2657fce5"
  },
  {
   "cell_type": "code",
   "execution_count": 8,
   "outputs": [
    {
     "name": "stdout",
     "output_type": "stream",
     "text": [
      "['random string', '0', '0.1', '0,1', '100', '1000', '1.000', '1,000', 'not a number']\n",
      "[False, True, True, True, True, True, True, True, False]\n"
     ]
    }
   ],
   "source": [
    "## QUESTION 3.a\n",
    "\n",
    "import exam_variables as ev\n",
    "\n",
    "print(ev.test_strings)\n",
    "\n",
    "def isnumeric(x):\n",
    "    return x.replace(\".\", \"\").replace(\",\", \"\").replace(\"(\", \"\").isnumeric()\n",
    "\n",
    "result = list(map(isnumeric, ev.test_strings))\n",
    "\n",
    "print(result)"
   ],
   "metadata": {
    "collapsed": false,
    "ExecuteTime": {
     "end_time": "2024-02-25T17:29:51.449611Z",
     "start_time": "2024-02-25T17:29:51.422965Z"
    }
   },
   "id": "8ff99b6bc4f13136"
  },
  {
   "cell_type": "code",
   "execution_count": 9,
   "outputs": [
    {
     "name": "stdout",
     "output_type": "stream",
     "text": [
      "['The', 'European', 'Union', 'is', 'a', 'supranational', 'political', 'and', 'economic', 'union', 'of', '27', 'member', 'states', 'that', 'are', 'located', 'primarily', 'in', 'Europe.', 'The', 'union', 'has', 'a', 'total', 'area', 'of', '4,233,255', 'km2', '(1,634,469', 'sq', 'mi)', 'and', 'an', 'estimated', 'total', 'population', 'of', 'over', '448', 'million.', 'Containing', '5.8%', 'of', 'the', 'world', 'population', 'in', '2020,', 'EU', 'member', 'states', 'generated', 'a', 'nominal', 'gross', 'domestic', 'product', '(GDP)', 'of', 'around', 'US$', '16.6', 'trillion', 'in', '2022,', 'constituting', 'approximately', 'one', 'sixth', 'of', 'global', 'nominal', 'GDP.']\n",
      "['27', '4,233,255', '(1,634,469', '448', '2020,', '16.6', '2022,']\n"
     ]
    }
   ],
   "source": [
    "## QUESTION 3.b\n",
    "\n",
    "words = ev.EU_wikitext.split(\" \")\n",
    "print(words)\n",
    "\n",
    "filtered = list(filter(isnumeric, words))\n",
    "print(filtered)"
   ],
   "metadata": {
    "collapsed": false,
    "ExecuteTime": {
     "end_time": "2024-02-25T17:29:51.449890Z",
     "start_time": "2024-02-25T17:29:51.429349Z"
    }
   },
   "id": "9b40e7d5cc243354"
  },
  {
   "cell_type": "code",
   "execution_count": 10,
   "outputs": [
    {
     "name": "stdout",
     "output_type": "stream",
     "text": [
      "['A__DET', 'language__NOUN', 'family__NOUN', 'is__AUX', 'a__DET', 'group__NOUN', 'of__ADP', 'languages__NOUN', 'related__VERB', 'through__ADP', 'descent__NOUN', 'from__ADP', 'a__DET', 'common__ADJ', 'ancestral__ADJ', 'language__NOUN', 'or__CCONJ', 'parental__ADJ', 'language__NOUN', ',__PUNCT', 'called__VERB', 'the__DET', 'proto__NOUN', '-__PUNCT', 'language__NOUN', 'of__ADP', 'that__DET', 'family__NOUN']\n",
      "[['A', 'DET'], ['language', 'NOUN'], ['family', 'NOUN'], ['is', 'AUX'], ['a', 'DET'], ['group', 'NOUN'], ['of', 'ADP'], ['languages', 'NOUN'], ['related', 'VERB'], ['through', 'ADP'], ['descent', 'NOUN'], ['from', 'ADP'], ['a', 'DET'], ['common', 'ADJ'], ['ancestral', 'ADJ'], ['language', 'NOUN'], ['or', 'CCONJ'], ['parental', 'ADJ'], ['language', 'NOUN'], [',', 'PUNCT'], ['called', 'VERB'], ['the', 'DET'], ['proto', 'NOUN'], ['-', 'PUNCT'], ['language', 'NOUN'], ['of', 'ADP'], ['that', 'DET'], ['family', 'NOUN']]\n",
      "\n",
      "\n",
      "['A', 'is', 'a', 'of', 'through', 'from', 'a', 'or', 'the', 'of', 'that']\n"
     ]
    }
   ],
   "source": [
    "## QUESTION 4\n",
    "\n",
    "q4words = ev.annotated_sentence.split(' ')\n",
    "print(q4words)\n",
    "\n",
    "splittedq4 = list(map(lambda x: x.split('__'), q4words))\n",
    "print(splittedq4)\n",
    "\n",
    "fktwords = list(filter(lambda x: x[1] in ev.function_words_tags, splittedq4))\n",
    "\n",
    "print('\\n')\n",
    "print(list(map(lambda x: x[0], fktwords)))"
   ],
   "metadata": {
    "collapsed": false,
    "ExecuteTime": {
     "end_time": "2024-02-25T17:29:51.450379Z",
     "start_time": "2024-02-25T17:29:51.434701Z"
    }
   },
   "id": "699d045754fa30d"
  },
  {
   "cell_type": "code",
   "execution_count": 26,
   "outputs": [
    {
     "name": "stdout",
     "output_type": "stream",
     "text": [
      "[{'title': 'Data centres could soon be heating your local swimming pool', 'opening sentence': 'An innovation that captures heat from data centres and uses it to warm public pools is about to scale up', 'topics': 'Environment,Society', 'article date': datetime.datetime(2024, 1, 17, 0, 0)}, {'title': 'Imagine if… AI solves all our problems (plus, how it could happen)', 'opening sentence': 'It’s 2050. AI has been tamed and is solving major global problems. Fantasy or near-future reality? We find out', 'topics': 'Economics,Technology', 'article date': datetime.datetime(2023, 9, 6, 0, 0)}, {'title': 'Making a comeback: the ‘lost’ species returning to Britain', 'opening sentence': 'Some were reintroduced, others mysteriously reappeared. Meet the species that came back from the abyss', 'topics': 'Environment', 'article date': datetime.datetime(2023, 11, 14, 0, 0)}, {'title': 'How black barbers in London are giving poor mental health the chop', 'opening sentence': 'Black men are getting more than just a trim at barber shops in Islington, thanks to a pioneering mental health initiative', 'topics': 'Health,Society', 'article date': datetime.datetime(2023, 1, 31, 0, 0)}, {'title': 'Six lifestyle choices that can slash your risk of developing dementia', 'opening sentence': 'Dementia rates are set to soar, research suggests. But it doesn’t have to be that way. These habits can help slash your risk', 'topics': 'Health,Science', 'article date': datetime.datetime(2023, 11, 1, 0, 0)}, {'title': 'Three good things: transformative educational projects', 'opening sentence': 'Projects to support young people with visual impairments, tackle food insecurity and help address climate anxiety will share a £1m prize', 'topics': 'Economics,Society,Health', 'article date': datetime.datetime(2024, 1, 26, 0, 0)}, {'title': 'The rise of job centres for neurodivergent people', 'opening sentence': 'Increasingly, specialised employment agencies are drawing attention to the benefits of conditions such as autism', 'topics': 'Economics,Society,Health', 'article date': datetime.datetime(2024, 1, 3, 0, 0)}, {'title': 'Roll up for the great resale retail rush: the rise and rise of secondhand shopping', 'opening sentence': 'Secondhand shopping is a multibillion-pound marketplace – and going from strength to strength', 'topics': 'Economics,Environment', 'article date': datetime.datetime(2024, 1, 2, 0, 0)}, {'title': 'Could purpose-led firms lift the UK’s flagging economy?', 'opening sentence': 'It may seem counterintuitive, but getting companies to think beyond the bottom line could boost the economy, a report suggests', 'topics': 'Economics', 'article date': datetime.datetime(2023, 11, 29, 0, 0)}, {'title': 'What went right this week: England’s rainforests breathed easier, plus more', 'opening sentence': 'Health research entered a new era, English rainforests got a boost, and low-carbon flying inched closer, plus more good news', 'topics': 'Environment', 'article date': datetime.datetime(2023, 12, 1, 0, 0)}, {'title': 'Welcome to the ‘golden age of medicine’ (plus, seven big breakthroughs)', 'opening sentence': 'From the rediscovery of a ‘forgotten organ’ to potential cures for cancers, Alzheimer’s and HIV, this is a bold new era for medicine', 'topics': 'Health', 'article date': datetime.datetime(2023, 10, 25, 0, 0)}, {'title': 'Even as the heat has been on in Dubai, the renewables juggernaut has gathered pace', 'opening sentence': 'The Cop28 agreement is imperfect yet significant – and one of a host of causes for optimism', 'topics': 'Environment', 'article date': datetime.datetime(2023, 12, 13, 0, 0)}]\n",
      "\n",
      "===T1===\n",
      "\n",
      "Data centres could soon be heating your local swimming pool\n",
      "Three good things: transformative educational projects\n",
      "The rise of job centres for neurodivergent people\n",
      "Roll up for the great resale retail rush: the rise and rise of secondhand shopping\n",
      "\n",
      "===T2===\n",
      "\n",
      "How black barbers in London are giving poor mental health the chop\n",
      "Six lifestyle choices that can slash your risk of developing dementia\n",
      "Three good things: transformative educational projects\n",
      "The rise of job centres for neurodivergent people\n",
      "Welcome to the ‘golden age of medicine’ (plus, seven big breakthroughs)\n",
      "\n",
      "===T3===\n",
      "\n",
      "5\n",
      "\n",
      "===T4===\n",
      "\n",
      "{'Society', 'Economics', 'Health', 'Science', 'Environment', 'Technology'}\n"
     ]
    }
   ],
   "source": [
    "## QUESTION 5\n",
    "\n",
    "import datetime\n",
    "\n",
    "file = open('positive news.txt', 'r')\n",
    "\n",
    "lines = file.readlines()\n",
    "#print(lines)\n",
    "\n",
    "dataSplittedInFields = list(map(lambda x: x.split(\" | \"), lines))\n",
    "\n",
    "dataDict = []\n",
    "\n",
    "for i in dataSplittedInFields:\n",
    "    dataDict.append(\n",
    "        {\n",
    "            \"title\": i[0],\n",
    "            \"opening sentence\": i[1],\n",
    "            \"topics\": i[2],\n",
    "            \"article date\": datetime.datetime.strptime(i[3].replace('\\n', ''), '%d/%m/%Y')\n",
    "        }\n",
    "    )\n",
    "\n",
    "print(dataDict)\n",
    "\n",
    "print('\\n===T1===\\n')\n",
    "\n",
    "for i in dataDict:\n",
    "    if i['article date'].year == 2024:\n",
    "        print(i['title'])\n",
    "        \n",
    "\n",
    "print('\\n===T2===\\n')\n",
    "\n",
    "for i in dataDict:\n",
    "    if i['topics'].find('Health') != -1:\n",
    "        print(i['title'])\n",
    "        \n",
    "\n",
    "print('\\n===T3===\\n')\n",
    "counter = 0\n",
    "for i in dataDict:\n",
    "    if i['topics'].find('Environment') != -1:\n",
    "        counter = counter + 1\n",
    "        \n",
    "print(counter)\n",
    "\n",
    "\n",
    "print('\\n===T4===\\n')\n",
    "setTopics = set()\n",
    "for i in dataDict:\n",
    "    setTopics = setTopics.union(set(i['topics'].split(',')))\n",
    "    \n",
    "print(setTopics)"
   ],
   "metadata": {
    "collapsed": false,
    "ExecuteTime": {
     "end_time": "2024-03-06T18:21:25.851947Z",
     "start_time": "2024-03-06T18:21:25.846329Z"
    }
   },
   "id": "69d188b33eb27e1e"
  },
  {
   "cell_type": "code",
   "execution_count": 9,
   "outputs": [],
   "source": [],
   "metadata": {
    "collapsed": false,
    "ExecuteTime": {
     "end_time": "2024-03-06T18:01:52.869043Z",
     "start_time": "2024-03-06T18:01:52.863131Z"
    }
   },
   "id": "99bdcb33e76ac2e6"
  }
 ],
 "metadata": {
  "kernelspec": {
   "display_name": "Python 3",
   "language": "python",
   "name": "python3"
  },
  "language_info": {
   "codemirror_mode": {
    "name": "ipython",
    "version": 2
   },
   "file_extension": ".py",
   "mimetype": "text/x-python",
   "name": "python",
   "nbconvert_exporter": "python",
   "pygments_lexer": "ipython2",
   "version": "2.7.6"
  }
 },
 "nbformat": 4,
 "nbformat_minor": 5
}
