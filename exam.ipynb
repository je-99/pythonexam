{
 "cells": [
  {
   "cell_type": "code",
   "execution_count": 61,
   "id": "initial_id",
   "metadata": {
    "collapsed": true,
    "ExecuteTime": {
     "end_time": "2024-03-07T12:49:13.608327Z",
     "start_time": "2024-03-07T12:49:10.776470Z"
    }
   },
   "outputs": [
    {
     "name": "stdout",
     "output_type": "stream",
     "text": [
      "Enter ZIP Code: \n",
      "Your location: Saarland\n"
     ]
    }
   ],
   "source": [
    "## QUESTION 1\n",
    "\n",
    "print(\"Enter ZIP Code: \\n\")\n",
    "zipCode = input()\n",
    "if zipCode.isnumeric() and len(zipCode) == 5:\n",
    "    zipCodeInt = int(zipCode)\n",
    "    if 66000 <= zipCodeInt <= 66999:\n",
    "        print(\"Your location: Saarland\")\n",
    "    else:\n",
    "        print(\"Your location: Not Saarland\")\n",
    "else:\n",
    "    print(\"Invalid Zipcode\")"
   ]
  },
  {
   "cell_type": "code",
   "execution_count": 62,
   "outputs": [
    {
     "name": "stdout",
     "output_type": "stream",
     "text": [
      "Enter your Python Version: \n",
      "Major Version: 3\tMinor Version: 11\n",
      "\n",
      "Your python version supports list comperhensions.\n",
      "Your python version supports f-strings.\n",
      "Your version is the most recent one.\n"
     ]
    }
   ],
   "source": [
    "## QUESTION 2\n",
    "\n",
    "print(\"Enter your Python Version: \")\n",
    "versionInput = input()\n",
    "versions = versionInput.split('.')\n",
    "major = int(versions[0])\n",
    "minor = int(versions[1])\n",
    "\n",
    "print(\"Major Version: \" + str(major) +  \"\\t\" + \"Minor Version: \" + str(minor) + \"\\n\")\n",
    "\n",
    "if 2 <= major:\n",
    "    print(\"Your python version supports list comperhensions.\")\n",
    "\n",
    "if 3 <= major and 6 <= minor:\n",
    "    print(\"Your python version supports f-strings.\")\n",
    "    \n",
    "if 3 == major and 11 == minor:\n",
    "    print(\"Your version is the most recent one.\")"
   ],
   "metadata": {
    "collapsed": false,
    "ExecuteTime": {
     "end_time": "2024-03-07T12:49:15.157030Z",
     "start_time": "2024-03-07T12:49:13.582334Z"
    }
   },
   "id": "c7ada3e2657fce5"
  },
  {
   "cell_type": "code",
   "execution_count": 63,
   "outputs": [
    {
     "name": "stdout",
     "output_type": "stream",
     "text": [
      "['random string', '0', '0.1', '0,1', '100', '1000', '1.000', '1,000', 'not a number']\n",
      "[False, True, True, True, True, True, True, True, False]\n"
     ]
    }
   ],
   "source": [
    "## QUESTION 3.a\n",
    "\n",
    "test_strings = ['random string', '0', '0.1', '0,1', '100',\n",
    "                '1000', '1.000', '1,000', 'not a number']\n",
    "\n",
    "print(test_strings)\n",
    "\n",
    "result = list()\n",
    "\n",
    "for x in test_strings:\n",
    "    isNumber = x.replace(\".\", \"\").replace(\",\", \"\").isnumeric()\n",
    "    result.append(isNumber)\n",
    "\n",
    "print(result)"
   ],
   "metadata": {
    "collapsed": false,
    "ExecuteTime": {
     "end_time": "2024-03-07T12:49:15.157195Z",
     "start_time": "2024-03-07T12:49:15.132221Z"
    }
   },
   "id": "8ff99b6bc4f13136"
  },
  {
   "cell_type": "code",
   "execution_count": 64,
   "outputs": [
    {
     "name": "stdout",
     "output_type": "stream",
     "text": [
      "['The', 'European', 'Union', 'is', 'a', 'supranational', 'political', 'and', 'economic', 'union', 'of', '27', 'member', 'states', 'that', 'are', 'located', 'primarily', 'in', 'Europe.', 'The', 'union', 'has', 'a', 'total', 'area', 'of', '4,233,255', 'km2', '(1,634,469', 'sq', 'mi)', 'and', 'an', 'estimated', 'total', 'population', 'of', 'over', '448', 'million.', 'Containing', '5.8%', 'of', 'the', 'world', 'population', 'in', '2020,', 'EU', 'member', 'states', 'generated', 'a', 'nominal', 'gross', 'domestic', 'product', '(GDP)', 'of', 'around', 'US$', '16.6', 'trillion', 'in', '2022,', 'constituting', 'approximately', 'one', 'sixth', 'of', 'global', 'nominal', 'GDP.']\n",
      "['27', '4,233,255', '(1,634,469', '448', '2020,', '16.6', '2022,']\n"
     ]
    }
   ],
   "source": [
    "## QUESTION 3.b\n",
    "import exam_variables as ev\n",
    "words = ev.EU_wikitext.split(\" \")\n",
    "print(words)\n",
    "\n",
    "filteredForNumeric = list()\n",
    "\n",
    "def isnumeric(x):\n",
    "    return x.replace(\".\", \"\").replace(\",\", \"\").replace(\"(\", \"\").isnumeric()\n",
    "\n",
    "for abc in words:\n",
    "    if isnumeric(abc):\n",
    "        filteredForNumeric.append(abc)\n",
    "        \n",
    "print(filteredForNumeric)"
   ],
   "metadata": {
    "collapsed": false,
    "ExecuteTime": {
     "end_time": "2024-03-07T12:49:15.157600Z",
     "start_time": "2024-03-07T12:49:15.136472Z"
    }
   },
   "id": "9b40e7d5cc243354"
  },
  {
   "cell_type": "code",
   "execution_count": 65,
   "outputs": [
    {
     "name": "stdout",
     "output_type": "stream",
     "text": [
      "27\n",
      "4,233,255\n",
      "1,634,469\n",
      "448\n",
      "5.8\n",
      "2020,\n",
      "16.6\n",
      "2022,\n"
     ]
    }
   ],
   "source": [
    "EU_wikitext = \"The European Union is a supranational political \\\n",
    "and economic union of 27 member states that are located primarily \\\n",
    "in Europe. The union has a total area of 4,233,255 km2 \\\n",
    "(1,634,469 sq mi) and an estimated total population of over \\\n",
    "448 million. Containing 5.8% of the world population in 2020, \\\n",
    "EU member states generated a nominal gross domestic product (GDP) \\\n",
    "of around US$ 16.6 trillion in 2022, constituting approximately \\\n",
    "one sixth of global nominal GDP.\"\n",
    "\n",
    "woerter = EU_wikitext.split()\n",
    "\n",
    "def istZahl(wort):\n",
    "    ergebnis = wort.replace(\".\", \"\").replace(\",\", \"\").isnumeric()\n",
    "    return ergebnis\n",
    "\n",
    "for wort in woerter:\n",
    "    wortStripped = wort.strip(\"%()\")\n",
    "    if istZahl(wortStripped) == True:\n",
    "        print(wortStripped)\n"
   ],
   "metadata": {
    "collapsed": false,
    "ExecuteTime": {
     "end_time": "2024-03-07T12:49:15.158101Z",
     "start_time": "2024-03-07T12:49:15.140692Z"
    }
   },
   "id": "b6dcc96d8ff51e8c"
  },
  {
   "cell_type": "code",
   "execution_count": 66,
   "outputs": [
    {
     "name": "stdout",
     "output_type": "stream",
     "text": [
      "['A__DET', 'language__NOUN', 'family__NOUN', 'is__AUX', 'a__DET', 'group__NOUN', 'of__ADP', 'languages__NOUN', 'related__VERB', 'through__ADP', 'descent__NOUN', 'from__ADP', 'a__DET', 'common__ADJ', 'ancestral__ADJ', 'language__NOUN', 'or__CCONJ', 'parental__ADJ', 'language__NOUN', ',__PUNCT', 'called__VERB', 'the__DET', 'proto__NOUN', '-__PUNCT', 'language__NOUN', 'of__ADP', 'that__DET', 'family__NOUN']\n",
      "[['A', 'DET'], ['language', 'NOUN'], ['family', 'NOUN'], ['is', 'AUX'], ['a', 'DET'], ['group', 'NOUN'], ['of', 'ADP'], ['languages', 'NOUN'], ['related', 'VERB'], ['through', 'ADP'], ['descent', 'NOUN'], ['from', 'ADP'], ['a', 'DET'], ['common', 'ADJ'], ['ancestral', 'ADJ'], ['language', 'NOUN'], ['or', 'CCONJ'], ['parental', 'ADJ'], ['language', 'NOUN'], [',', 'PUNCT'], ['called', 'VERB'], ['the', 'DET'], ['proto', 'NOUN'], ['-', 'PUNCT'], ['language', 'NOUN'], ['of', 'ADP'], ['that', 'DET'], ['family', 'NOUN']]\n",
      "A\n",
      "is\n",
      "a\n",
      "of\n",
      "through\n",
      "from\n",
      "a\n",
      "or\n",
      "the\n",
      "of\n",
      "that\n"
     ]
    }
   ],
   "source": [
    "## QUESTION 4\n",
    "\n",
    "slitted_into_words = ev.annotated_sentence.split()\n",
    "print(slitted_into_words)\n",
    "\n",
    "words_mapped_to_tags = []\n",
    "\n",
    "for x in slitted_into_words:\n",
    "    wort_aufgeteilt = x.split('__')\n",
    "    words_mapped_to_tags.append(wort_aufgeteilt)\n",
    "    \n",
    "print(words_mapped_to_tags)\n",
    "\n",
    "function_words_in_sentence = []\n",
    "\n",
    "function_words_tags = [\"ADP\", \"AUX\", \"CCONJ\", \"DET\", \"PRON\"]\n",
    "\n",
    "for eintrag in words_mapped_to_tags:\n",
    "    if eintrag[1] in function_words_tags:\n",
    "        print(eintrag[0])"
   ],
   "metadata": {
    "collapsed": false,
    "ExecuteTime": {
     "end_time": "2024-03-07T12:49:15.158316Z",
     "start_time": "2024-03-07T12:49:15.144927Z"
    }
   },
   "id": "699d045754fa30d"
  },
  {
   "cell_type": "code",
   "execution_count": 67,
   "outputs": [
    {
     "name": "stdout",
     "output_type": "stream",
     "text": [
      "[{'title': 'Data centres could soon be heating your local swimming pool', 'opening sentence': 'An innovation that captures heat from data centres and uses it to warm public pools is about to scale up', 'topics': 'Environment,Society', 'article date': '17/01/2024\\n'}, {'title': 'Imagine if… AI solves all our problems (plus, how it could happen)', 'opening sentence': 'It’s 2050. AI has been tamed and is solving major global problems. Fantasy or near-future reality? We find out', 'topics': 'Economics,Technology', 'article date': '06/09/2023\\n'}, {'title': 'Making a comeback: the ‘lost’ species returning to Britain', 'opening sentence': 'Some were reintroduced, others mysteriously reappeared. Meet the species that came back from the abyss', 'topics': 'Environment', 'article date': '14/11/2023\\n'}, {'title': 'How black barbers in London are giving poor mental health the chop', 'opening sentence': 'Black men are getting more than just a trim at barber shops in Islington, thanks to a pioneering mental health initiative', 'topics': 'Health,Society', 'article date': '31/01/2023\\n'}, {'title': 'Six lifestyle choices that can slash your risk of developing dementia', 'opening sentence': 'Dementia rates are set to soar, research suggests. But it doesn’t have to be that way. These habits can help slash your risk', 'topics': 'Health,Science', 'article date': '01/11/2023\\n'}, {'title': 'Three good things: transformative educational projects', 'opening sentence': 'Projects to support young people with visual impairments, tackle food insecurity and help address climate anxiety will share a £1m prize', 'topics': 'Economics,Society,Health', 'article date': '26/01/2024\\n'}, {'title': 'The rise of job centres for neurodivergent people', 'opening sentence': 'Increasingly, specialised employment agencies are drawing attention to the benefits of conditions such as autism', 'topics': 'Economics,Society,Health', 'article date': '3/01/2024\\n'}, {'title': 'Roll up for the great resale retail rush: the rise and rise of secondhand shopping', 'opening sentence': 'Secondhand shopping is a multibillion-pound marketplace – and going from strength to strength', 'topics': 'Economics,Environment', 'article date': '02/01/2024\\n'}, {'title': 'Could purpose-led firms lift the UK’s flagging economy?', 'opening sentence': 'It may seem counterintuitive, but getting companies to think beyond the bottom line could boost the economy, a report suggests', 'topics': 'Economics', 'article date': '29/11/2023\\n'}, {'title': 'What went right this week: England’s rainforests breathed easier, plus more', 'opening sentence': 'Health research entered a new era, English rainforests got a boost, and low-carbon flying inched closer, plus more good news', 'topics': 'Environment', 'article date': '01/12/2023\\n'}, {'title': 'Welcome to the ‘golden age of medicine’ (plus, seven big breakthroughs)', 'opening sentence': 'From the rediscovery of a ‘forgotten organ’ to potential cures for cancers, Alzheimer’s and HIV, this is a bold new era for medicine', 'topics': 'Health', 'article date': '25/10/2023\\n'}, {'title': 'Even as the heat has been on in Dubai, the renewables juggernaut has gathered pace', 'opening sentence': 'The Cop28 agreement is imperfect yet significant – and one of a host of causes for optimism', 'topics': 'Environment', 'article date': '13/12/2023'}]\n",
      "\n",
      "===T1===\n",
      "\n",
      "Data centres could soon be heating your local swimming pool\n",
      "Three good things: transformative educational projects\n",
      "The rise of job centres for neurodivergent people\n",
      "Roll up for the great resale retail rush: the rise and rise of secondhand shopping\n",
      "\n",
      "===T2===\n",
      "\n",
      "How black barbers in London are giving poor mental health the chop\n",
      "Six lifestyle choices that can slash your risk of developing dementia\n",
      "Three good things: transformative educational projects\n",
      "The rise of job centres for neurodivergent people\n",
      "Welcome to the ‘golden age of medicine’ (plus, seven big breakthroughs)\n",
      "\n",
      "===T3===\n",
      "\n",
      "5\n",
      "\n",
      "===T4===\n",
      "\n",
      "{'Science', 'Environment', 'Society', 'Technology', 'Health', 'Economics'}\n"
     ]
    }
   ],
   "source": [
    "## QUESTION 5\n",
    "\n",
    "file = open('positive news.txt', 'r')\n",
    "\n",
    "lines = file.readlines()\n",
    "#print(lines)\n",
    "\n",
    "dataSplittedInFields = []\n",
    "\n",
    "for line in lines:\n",
    "    splitted = line.split(' | ')\n",
    "    dataSplittedInFields.append(splitted)\n",
    "\n",
    "#print(dataSplittedInFields)\n",
    "\n",
    "dictionaryList = []\n",
    "\n",
    "for i in dataSplittedInFields:\n",
    "    dictionaryList.append(\n",
    "        {\n",
    "            \"title\": i[0],\n",
    "            \"opening sentence\": i[1],\n",
    "            \"topics\": i[2],\n",
    "            \"article date\": i[3]\n",
    "        }\n",
    "    )\n",
    "\n",
    "print(dictionaryList)\n",
    "\n",
    "print('\\n===T1===\\n')\n",
    "\n",
    "for i in dataSplittedInFields:\n",
    "    if '2024' in i[3]:\n",
    "        print(i[0])\n",
    "        \n",
    "\n",
    "print('\\n===T2===\\n')\n",
    "\n",
    "for i in dataSplittedInFields:\n",
    "    if 'Health' in i[2]:\n",
    "        print(i[0])\n",
    "        \n",
    "\n",
    "print('\\n===T3===\\n')\n",
    "counter = 0\n",
    "for i in dictionaryList:\n",
    "    if 'Environment' in i['topics']:\n",
    "        counter = counter + 1\n",
    "        \n",
    "print(counter)\n",
    "\n",
    "\n",
    "print('\\n===T4===\\n')\n",
    "allTopics = set()\n",
    "for i in dataSplittedInFields:\n",
    "    topics = i[2].split(',')\n",
    "    setWithTopics = set(topics)\n",
    "    allTopics = allTopics.union(setWithTopics)\n",
    "    \n",
    "print(allTopics)"
   ],
   "metadata": {
    "collapsed": false,
    "ExecuteTime": {
     "end_time": "2024-03-07T12:49:15.158459Z",
     "start_time": "2024-03-07T12:49:15.151243Z"
    }
   },
   "id": "69d188b33eb27e1e"
  },
  {
   "cell_type": "code",
   "execution_count": 68,
   "outputs": [
    {
     "name": "stdout",
     "output_type": "stream",
     "text": [
      "===T1===\n",
      "\n",
      "{'Niger-Congo', 'Uralic', 'Mayan', 'Austronesian', 'Dravidian', 'Basque', 'Indo-European', 'Altaic', 'Sino-Tibetan', 'Afro-Asiatic'}\n",
      "\n",
      "\n",
      "===T2===\n",
      "\n",
      "Arabic (Modern Standard)\n",
      "Hawaiian\n",
      "Irish\n",
      "\n",
      "\n",
      "===T3===\n",
      "\n",
      "{'Romance', 'Germanic', 'Albanian', 'Slavic', 'Iranian', 'Celtic', 'Indic'}\n",
      "\n",
      "\n",
      "===T4===\n",
      "\n",
      "Amara\n",
      "Tolai\n",
      "\n",
      "\n",
      "===T5===\n"
     ]
    }
   ],
   "source": [
    "## QUESTION 6\n",
    "import exam_variables as ev\n",
    "\n",
    "print('===T1===\\n')\n",
    "\n",
    "\n",
    "language_data = {\n",
    "    'Albanian': {'Family': 'Indo-European',\n",
    "                 'Genus': 'Albanian',\n",
    "                 'Word Order': 'SVO'},\n",
    "    'Amara': {'Family': 'Austronesian',\n",
    "              'Genus': 'Oceanic',\n",
    "              'Word Order': 'SVO'},\n",
    "    'Arabic (Modern Standard)': {'Family': 'Afro-Asiatic',\n",
    "                                 'Genus': 'Semitic',\n",
    "                                 'Word Order': 'VSO'},\n",
    "    'Basque': {'Family': 'Basque',\n",
    "               'Genus': 'Basque',\n",
    "               'Word Order': 'SOV'},\n",
    "    'Burmese': {'Family': 'Sino-Tibetan',\n",
    "                'Genus': 'Burmese-Lolo',\n",
    "                'Word Order': 'SOV'},\n",
    "    'Catalan': {'Family': 'Indo-European',\n",
    "                'Genus': 'Romance',\n",
    "                'Word Order': 'SVO'},\n",
    "    'Enets': {'Family': 'Uralic',\n",
    "              'Genus': 'Samoyedic',\n",
    "              'Word Order': 'SOV'},\n",
    "    'English': {'Family': 'Indo-European',\n",
    "                'Genus': 'Germanic',\n",
    "                'Word Order': 'SVO'},\n",
    "    'Finnish': {'Family': 'Uralic',\n",
    "                'Genus': 'Finnic',\n",
    "                'Word Order': 'SVO'},\n",
    "    'Hawaiian': {'Family': 'Austronesian',\n",
    "                 'Genus': 'Oceanic',\n",
    "                 'Word Order': 'VSO'},\n",
    "    'Hindi': {'Family': 'Indo-European',\n",
    "              'Genus': 'Indic',\n",
    "              'Word Order': 'SOV'},\n",
    "    'Igbo': {'Family': 'Niger-Congo',\n",
    "             'Genus': 'Igboid',\n",
    "             'Word Order': 'SVO'},\n",
    "    'Irish': {'Family': 'Indo-European',\n",
    "              'Genus': 'Celtic',\n",
    "              'Word Order': 'VSO'},\n",
    "    'Macedonian': {'Family': 'Indo-European',\n",
    "                   'Genus': 'Slavic',\n",
    "                   'Word Order': 'SVO'},\n",
    "    'Mandarin': {'Family': 'Sino-Tibetan',\n",
    "                 'Genus': 'Chinese',\n",
    "                 'Word Order': 'SVO'},\n",
    "    'Persian': {'Family': 'Indo-European',\n",
    "                'Genus': 'Iranian',\n",
    "                'Word Order': 'SOV'},\n",
    "    'Tamil': {'Family': 'Dravidian',\n",
    "              'Genus': 'Dravidian',\n",
    "              'Word Order': 'SOV'},\n",
    "    'Tolai': {'Family': 'Austronesian',\n",
    "              'Genus': 'Oceanic',\n",
    "              'Word Order': 'SVO'},\n",
    "    'Turkish': {'Family': 'Altaic',\n",
    "                'Genus': 'Turkic',\n",
    "                'Word Order': 'SOV'},\n",
    "    'Yucatek': {'Family': 'Mayan',\n",
    "                'Genus': 'Mayan',\n",
    "                'Word Order': 'SOV'}}\n",
    "\n",
    "language_families = set()\n",
    "\n",
    "for language in language_data:\n",
    "    family = language_data[language]['Family']\n",
    "    language_families.add(family)\n",
    "    \n",
    "print(language_families)\n",
    "\n",
    "\n",
    "print('\\n\\n===T2===\\n')\n",
    "\n",
    "for language in language_data:\n",
    "    word_order = language_data[language]['Word Order']\n",
    "    if word_order == \"VSO\":\n",
    "        print(language)\n",
    "        \n",
    "\n",
    "print('\\n\\n===T3===\\n')\n",
    "\n",
    "generaSet = set()\n",
    "\n",
    "for language in language_data:\n",
    "    if language_data[language]['Family'] == \"Indo-European\":\n",
    "        genus = language_data[language]['Genus']\n",
    "        generaSet.add(genus)\n",
    "        \n",
    "print(generaSet)\n",
    "\n",
    "\n",
    "print('\\n\\n===T4===\\n')\n",
    "\n",
    "for language in language_data:\n",
    "    if language_data[language]['Family'] == 'Austronesian' and language_data[language]['Word Order'] == 'SVO':\n",
    "        print(language)\n",
    "        \n",
    "\n",
    "print('\\n\\n===T5===\\n')\n",
    "\n",
    "file = open('indo-european languages.txt', 'w')\n",
    "\n",
    "for language in language_data:\n",
    "    if language_data[language]['Family'] == 'Indo-European':\n",
    "        genus = language_data[language]['Genus']\n",
    "        word_order = language_data[language]['Word Order']\n",
    "        file.write(f'Language: {language} Genus: {genus} Word Order: {word_order}\\n')\n",
    "\n",
    "file.close()"
   ],
   "metadata": {
    "collapsed": false,
    "ExecuteTime": {
     "end_time": "2024-03-07T12:49:15.163435Z",
     "start_time": "2024-03-07T12:49:15.160341Z"
    }
   },
   "id": "99bdcb33e76ac2e6"
  },
  {
   "cell_type": "code",
   "execution_count": 69,
   "outputs": [
    {
     "name": "stdout",
     "output_type": "stream",
     "text": [
      "Kuchen\n",
      "------\n",
      "List of ingredients: sugar, baking powder, flour, milk, eggs, butter\n",
      "\n",
      "Instructions:\n",
      "Preheat oven to 180 degrees...\n",
      "Contained allergens: eggs, butter, milk\n"
     ]
    }
   ],
   "source": [
    "#QUESTION 7\n",
    "\n",
    "from exam_variables import Recipe, simple_cake, instructions\n",
    "\n",
    "kuchen_recipe = Recipe('Kuchen', simple_cake, instructions)\n",
    "\n",
    "kuchen_recipe.print_recipe()\n",
    "kuchen_recipe.has_ingredient('butter')\n",
    "kuchen_recipe.display_allergens(['milk', 'butter'])\n",
    "\n",
    "\n"
   ],
   "metadata": {
    "collapsed": false,
    "ExecuteTime": {
     "end_time": "2024-03-07T12:49:15.166499Z",
     "start_time": "2024-03-07T12:49:15.163277Z"
    }
   },
   "id": "3c59fc3796c46a28"
  },
  {
   "cell_type": "code",
   "execution_count": 69,
   "outputs": [],
   "source": [],
   "metadata": {
    "collapsed": false,
    "ExecuteTime": {
     "end_time": "2024-03-07T12:49:15.169183Z",
     "start_time": "2024-03-07T12:49:15.167122Z"
    }
   },
   "id": "510c8058a8dd4380"
  }
 ],
 "metadata": {
  "kernelspec": {
   "display_name": "Python 3",
   "language": "python",
   "name": "python3"
  },
  "language_info": {
   "codemirror_mode": {
    "name": "ipython",
    "version": 2
   },
   "file_extension": ".py",
   "mimetype": "text/x-python",
   "name": "python",
   "nbconvert_exporter": "python",
   "pygments_lexer": "ipython2",
   "version": "2.7.6"
  }
 },
 "nbformat": 4,
 "nbformat_minor": 5
}
