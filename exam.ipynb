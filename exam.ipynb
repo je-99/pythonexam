{
 "cells": [
  {
   "cell_type": "code",
   "execution_count": 26,
   "id": "initial_id",
   "metadata": {
    "collapsed": true,
    "ExecuteTime": {
     "end_time": "2024-02-25T17:01:35.139340Z",
     "start_time": "2024-02-25T17:01:32.687047Z"
    }
   },
   "outputs": [
    {
     "name": "stdout",
     "output_type": "stream",
     "text": [
      "Enter ZIP Code: \n",
      "Your location: Saarland\n"
     ]
    }
   ],
   "source": [
    "## QUESTION 1\n",
    "\n",
    "print(\"Enter ZIP Code: \\n\")\n",
    "zipCode = input()\n",
    "zipCodeInt = int(zipCode)\n",
    "\n",
    "if 66000 <= zipCodeInt <= 66999:\n",
    "    print(\"Your location: Saarland\")\n",
    "else:\n",
    "    print(\"Invalid Zipcode\")\n"
   ]
  },
  {
   "cell_type": "code",
   "execution_count": 27,
   "outputs": [
    {
     "name": "stdout",
     "output_type": "stream",
     "text": [
      "Enter your Python Version: \n",
      "Major Version: 3\tMinor Version: 11\n",
      "\n",
      "Your python version supports list comperhensions.\n",
      "Your python version supports f-strings.\n",
      "Your version is the most recent one.\n"
     ]
    }
   ],
   "source": [
    "## QUESTION 2\n",
    "\n",
    "print(\"Enter your Python Version: \")\n",
    "versionInput = input()\n",
    "major, minor = versionInput.split('.')\n",
    "major = int(major)\n",
    "minor = int(minor)\n",
    "\n",
    "print(\"Major Version: \" + str(major) +  \"\\t\" + \"Minor Version: \" + str(minor) + \"\\n\")\n",
    "\n",
    "if 2 <= major:\n",
    "    print(\"Your python version supports list comperhensions.\")\n",
    "\n",
    "if 3 <= major and 6 <= minor:\n",
    "    print(\"Your python version supports f-strings.\")\n",
    "    \n",
    "if 3 == major and 11 == minor:\n",
    "    print(\"Your version is the most recent one.\")"
   ],
   "metadata": {
    "collapsed": false,
    "ExecuteTime": {
     "end_time": "2024-02-25T17:01:36.850740Z",
     "start_time": "2024-02-25T17:01:35.114379Z"
    }
   },
   "id": "c7ada3e2657fce5"
  },
  {
   "cell_type": "code",
   "execution_count": 28,
   "outputs": [
    {
     "name": "stdout",
     "output_type": "stream",
     "text": [
      "['random string', '0', '0.1', '0,1', '100', '1000', '1.000', '1,000', 'not a number']\n",
      "[False, True, True, True, True, True, True, True, False]\n"
     ]
    }
   ],
   "source": [
    "## QUESTION 3.a\n",
    "\n",
    "import exam_variables as ev\n",
    "\n",
    "print(ev.test_strings)\n",
    "\n",
    "def isnumeric(x):\n",
    "    return x.replace(\".\", \"\").replace(\",\", \"\").replace(\"(\", \"\").isnumeric()\n",
    "\n",
    "result = list(map(isnumeric, ev.test_strings))\n",
    "\n",
    "print(result)"
   ],
   "metadata": {
    "collapsed": false,
    "ExecuteTime": {
     "end_time": "2024-02-25T17:01:36.850951Z",
     "start_time": "2024-02-25T17:01:36.806447Z"
    }
   },
   "id": "8ff99b6bc4f13136"
  },
  {
   "cell_type": "code",
   "execution_count": 29,
   "outputs": [
    {
     "name": "stdout",
     "output_type": "stream",
     "text": [
      "['The', 'European', 'Union', 'is', 'a', 'supranational', 'political', 'and', 'economic', 'union', 'of', '27', 'member', 'states', 'that', 'are', 'located', 'primarily', 'in', 'Europe.', 'The', 'union', 'has', 'a', 'total', 'area', 'of', '4,233,255', 'km2', '(1,634,469', 'sq', 'mi)', 'and', 'an', 'estimated', 'total', 'population', 'of', 'over', '448', 'million.', 'Containing', '5.8%', 'of', 'the', 'world', 'population', 'in', '2020,', 'EU', 'member', 'states', 'generated', 'a', 'nominal', 'gross', 'domestic', 'product', '(GDP)', 'of', 'around', 'US$', '16.6', 'trillion', 'in', '2022,', 'constituting', 'approximately', 'one', 'sixth', 'of', 'global', 'nominal', 'GDP.']\n",
      "['27', '4,233,255', '(1,634,469', '448', '2020,', '16.6', '2022,']\n"
     ]
    }
   ],
   "source": [
    "## QUESTION 3.b\n",
    "\n",
    "words = ev.EU_wikitext.split(\" \")\n",
    "print(words)\n",
    "\n",
    "filtered = list(filter(isnumeric, words))\n",
    "print(filtered)"
   ],
   "metadata": {
    "collapsed": false,
    "ExecuteTime": {
     "end_time": "2024-02-25T17:01:36.851058Z",
     "start_time": "2024-02-25T17:01:36.810703Z"
    }
   },
   "id": "9b40e7d5cc243354"
  },
  {
   "cell_type": "code",
   "execution_count": 30,
   "outputs": [
    {
     "name": "stdout",
     "output_type": "stream",
     "text": [
      "['A__DET', 'language__NOUN', 'family__NOUN', 'is__AUX', 'a__DET', 'group__NOUN', 'of__ADP', 'languages__NOUN', 'related__VERB', 'through__ADP', 'descent__NOUN', 'from__ADP', 'a__DET', 'common__ADJ', 'ancestral__ADJ', 'language__NOUN', 'or__CCONJ', 'parental__ADJ', 'language__NOUN', ',__PUNCT', 'called__VERB', 'the__DET', 'proto__NOUN', '-__PUNCT', 'language__NOUN', 'of__ADP', 'that__DET', 'family__NOUN']\n",
      "[['A', 'DET'], ['language', 'NOUN'], ['family', 'NOUN'], ['is', 'AUX'], ['a', 'DET'], ['group', 'NOUN'], ['of', 'ADP'], ['languages', 'NOUN'], ['related', 'VERB'], ['through', 'ADP'], ['descent', 'NOUN'], ['from', 'ADP'], ['a', 'DET'], ['common', 'ADJ'], ['ancestral', 'ADJ'], ['language', 'NOUN'], ['or', 'CCONJ'], ['parental', 'ADJ'], ['language', 'NOUN'], [',', 'PUNCT'], ['called', 'VERB'], ['the', 'DET'], ['proto', 'NOUN'], ['-', 'PUNCT'], ['language', 'NOUN'], ['of', 'ADP'], ['that', 'DET'], ['family', 'NOUN']]\n",
      "\n",
      "\n",
      "['A', 'is', 'a', 'of', 'through', 'from', 'a', 'or', 'the', 'of', 'that']\n"
     ]
    }
   ],
   "source": [
    "## QUESTION 4\n",
    "\n",
    "q4words = ev.annotated_sentence.split(' ')\n",
    "print(q4words)\n",
    "\n",
    "splittedq4 = list(map(lambda x: x.split('__'), q4words))\n",
    "print(splittedq4)\n",
    "\n",
    "fktwords = list(filter(lambda x: x[1] in ev.function_words_tags, splittedq4))\n",
    "\n",
    "print('\\n')\n",
    "print(list(map(lambda x: x[0], fktwords)))"
   ],
   "metadata": {
    "collapsed": false,
    "ExecuteTime": {
     "end_time": "2024-02-25T17:01:36.851390Z",
     "start_time": "2024-02-25T17:01:36.816399Z"
    }
   },
   "id": "699d045754fa30d"
  },
  {
   "cell_type": "code",
   "execution_count": 30,
   "outputs": [],
   "source": [],
   "metadata": {
    "collapsed": false,
    "ExecuteTime": {
     "end_time": "2024-02-25T17:01:36.851453Z",
     "start_time": "2024-02-25T17:01:36.818677Z"
    }
   },
   "id": "69d188b33eb27e1e"
  }
 ],
 "metadata": {
  "kernelspec": {
   "display_name": "Python 3",
   "language": "python",
   "name": "python3"
  },
  "language_info": {
   "codemirror_mode": {
    "name": "ipython",
    "version": 2
   },
   "file_extension": ".py",
   "mimetype": "text/x-python",
   "name": "python",
   "nbconvert_exporter": "python",
   "pygments_lexer": "ipython2",
   "version": "2.7.6"
  }
 },
 "nbformat": 4,
 "nbformat_minor": 5
}
